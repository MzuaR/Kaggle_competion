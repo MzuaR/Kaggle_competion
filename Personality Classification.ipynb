{
  "nbformat": 4,
  "nbformat_minor": 0,
  "metadata": {
    "colab": {
      "name": "new_notebook.ipynb",
      "provenance": []
    },
    "language_info": {
      "codemirror_mode": {
        "name": "ipython",
        "version": 3
      },
      "file_extension": ".py",
      "mimetype": "text/x-python",
      "name": "python",
      "nbconvert_exporter": "python",
      "pygments_lexer": "ipython3",
      "version": "3.6.5"
    },
    "kernelspec": {
      "display_name": "Python 3",
      "language": "python",
      "name": "python3"
    }
  },
  "cells": [
    {
      "cell_type": "code",
      "metadata": {
        "id": "LN7dLM0vIqLR",
        "colab_type": "code",
        "outputId": "4f5a4bf6-8f91-446e-d1e1-125ba6fe5065",
        "colab": {
          "base_uri": "https://localhost:8080/",
          "height": 122
        }
      },
      "source": [
        "# Run this cell to mount your Google Drive.\n",
        "from google.colab import drive\n",
        "drive.mount('/content/drive')"
      ],
      "execution_count": 0,
      "outputs": [
        {
          "output_type": "stream",
          "text": [
            "Go to this URL in a browser: https://accounts.google.com/o/oauth2/auth?client_id=947318989803-6bn6qk8qdgf4n4g3pfee6491hc0brc4i.apps.googleusercontent.com&redirect_uri=urn%3Aietf%3Awg%3Aoauth%3A2.0%3Aoob&scope=email%20https%3A%2F%2Fwww.googleapis.com%2Fauth%2Fdocs.test%20https%3A%2F%2Fwww.googleapis.com%2Fauth%2Fdrive%20https%3A%2F%2Fwww.googleapis.com%2Fauth%2Fdrive.photos.readonly%20https%3A%2F%2Fwww.googleapis.com%2Fauth%2Fpeopleapi.readonly&response_type=code\n",
            "\n",
            "Enter your authorization code:\n",
            "··········\n",
            "Mounted at /content/drive\n"
          ],
          "name": "stdout"
        }
      ]
    },
    {
      "cell_type": "code",
      "metadata": {
        "id": "UzIK7FedIDli",
        "colab_type": "code",
        "colab": {}
      },
      "source": [
        "import nltk\n",
        "import numpy as np\n",
        "import pandas as pd\n",
        "import matplotlib.pyplot as plt\n",
        "%matplotlib inline\n",
        "import seaborn as sns\n",
        "from sklearn import linear_model\n",
        "import re"
      ],
      "execution_count": 0,
      "outputs": []
    },
    {
      "cell_type": "code",
      "metadata": {
        "id": "EXh0S_syIDln",
        "colab_type": "code",
        "colab": {}
      },
      "source": [
        "\n",
        "from sklearn.naive_bayes import GaussianNB\n",
        "from sklearn.neighbors import KNeighborsClassifier"
      ],
      "execution_count": 0,
      "outputs": []
    },
    {
      "cell_type": "code",
      "metadata": {
        "id": "zUQyXibLIDlq",
        "colab_type": "code",
        "colab": {}
      },
      "source": [
        "\n",
        "from pylab import rcParams\n",
        "rcParams['figure.figsize'] = 10, 8\n",
        "sns.set_style('whitegrid')\n",
        "\n",
        "import sklearn\n",
        "from sklearn import preprocessing\n",
        "from sklearn.linear_model import LogisticRegression\n",
        "from sklearn.model_selection import train_test_split\n",
        "from sklearn.multiclass import OneVsRestClassifier\n",
        "from sklearn import metrics\n",
        "from sklearn.metrics import classification_report\n",
        "\n",
        "import nltk"
      ],
      "execution_count": 0,
      "outputs": []
    },
    {
      "cell_type": "code",
      "metadata": {
        "id": "IdyXOX3FIDls",
        "colab_type": "code",
        "outputId": "8015fcd6-1d88-49ee-bc4a-1b809f581a2b",
        "colab": {
          "base_uri": "https://localhost:8080/",
          "height": 204
        }
      },
      "source": [
        "mbti = pd.read_csv('/content/drive/My Drive/Unsupervised Machine Learning/train.csv')\n",
        "test = pd.read_csv('/content/drive/My Drive/Unsupervised Machine Learning/test.csv')\n",
        "mbti.head()"
      ],
      "execution_count": 0,
      "outputs": [
        {
          "output_type": "execute_result",
          "data": {
            "text/html": [
              "<div>\n",
              "<style scoped>\n",
              "    .dataframe tbody tr th:only-of-type {\n",
              "        vertical-align: middle;\n",
              "    }\n",
              "\n",
              "    .dataframe tbody tr th {\n",
              "        vertical-align: top;\n",
              "    }\n",
              "\n",
              "    .dataframe thead th {\n",
              "        text-align: right;\n",
              "    }\n",
              "</style>\n",
              "<table border=\"1\" class=\"dataframe\">\n",
              "  <thead>\n",
              "    <tr style=\"text-align: right;\">\n",
              "      <th></th>\n",
              "      <th>type</th>\n",
              "      <th>posts</th>\n",
              "    </tr>\n",
              "  </thead>\n",
              "  <tbody>\n",
              "    <tr>\n",
              "      <th>0</th>\n",
              "      <td>INFJ</td>\n",
              "      <td>'http://www.youtube.com/watch?v=qsXHcwe3krw|||...</td>\n",
              "    </tr>\n",
              "    <tr>\n",
              "      <th>1</th>\n",
              "      <td>ENTP</td>\n",
              "      <td>'I'm finding the lack of me in these posts ver...</td>\n",
              "    </tr>\n",
              "    <tr>\n",
              "      <th>2</th>\n",
              "      <td>INTP</td>\n",
              "      <td>'Good one  _____   https://www.youtube.com/wat...</td>\n",
              "    </tr>\n",
              "    <tr>\n",
              "      <th>3</th>\n",
              "      <td>INTJ</td>\n",
              "      <td>'Dear INTP,   I enjoyed our conversation the o...</td>\n",
              "    </tr>\n",
              "    <tr>\n",
              "      <th>4</th>\n",
              "      <td>ENTJ</td>\n",
              "      <td>'You're fired.|||That's another silly misconce...</td>\n",
              "    </tr>\n",
              "  </tbody>\n",
              "</table>\n",
              "</div>"
            ],
            "text/plain": [
              "   type                                              posts\n",
              "0  INFJ  'http://www.youtube.com/watch?v=qsXHcwe3krw|||...\n",
              "1  ENTP  'I'm finding the lack of me in these posts ver...\n",
              "2  INTP  'Good one  _____   https://www.youtube.com/wat...\n",
              "3  INTJ  'Dear INTP,   I enjoyed our conversation the o...\n",
              "4  ENTJ  'You're fired.|||That's another silly misconce..."
            ]
          },
          "metadata": {
            "tags": []
          },
          "execution_count": 5
        }
      ]
    },
    {
      "cell_type": "code",
      "metadata": {
        "id": "naJcDfWfIDlx",
        "colab_type": "code",
        "colab": {}
      },
      "source": [
        ""
      ],
      "execution_count": 0,
      "outputs": []
    },
    {
      "cell_type": "code",
      "metadata": {
        "id": "ocSiBacBIDlz",
        "colab_type": "code",
        "colab": {}
      },
      "source": [
        "all_mbti = pd.concat((mbti[['posts']].copy(),test[['posts']].copy()),axis=0)"
      ],
      "execution_count": 0,
      "outputs": []
    },
    {
      "cell_type": "markdown",
      "metadata": {
        "id": "9rdnKKmKJut5",
        "colab_type": "text"
      },
      "source": [
        ""
      ]
    },
    {
      "cell_type": "markdown",
      "metadata": {
        "id": "RT0NFazJIDl2",
        "colab_type": "text"
      },
      "source": [
        ""
      ]
    },
    {
      "cell_type": "code",
      "metadata": {
        "id": "PBWmFB0oIDl3",
        "colab_type": "code",
        "colab": {}
      },
      "source": [
        ""
      ],
      "execution_count": 0,
      "outputs": []
    },
    {
      "cell_type": "code",
      "metadata": {
        "id": "S-bQsgiFIDl5",
        "colab_type": "code",
        "colab": {}
      },
      "source": [
        "all_mbti['posts'] = all_mbti['posts'].apply(lambda x: ' '.join(x.split('|||')))"
      ],
      "execution_count": 0,
      "outputs": []
    },
    {
      "cell_type": "markdown",
      "metadata": {
        "id": "AZtK3K09IDl7",
        "colab_type": "text"
      },
      "source": [
        "__Data Cleaning__"
      ]
    },
    {
      "cell_type": "markdown",
      "metadata": {
        "id": "UhbUKUvaIDl8",
        "colab_type": "text"
      },
      "source": [
        "_Removing Noise_"
      ]
    },
    {
      "cell_type": "markdown",
      "metadata": {
        "id": "PnYwNe-1IDl9",
        "colab_type": "text"
      },
      "source": [
        "_Remove url_"
      ]
    },
    {
      "cell_type": "code",
      "metadata": {
        "id": "BDfSi7dgIDl-",
        "colab_type": "code",
        "colab": {}
      },
      "source": [
        "pattern_url = r'http[s]?://(?:[A-Za-z]|[0-9]|[$-_@.&+]|[!*\\(\\),]|(?:%[0-9A-Fa-f][0-9A-Fa-f]))+'\n",
        "subs_url = r'url-web'\n",
        "all_mbti['posts'] = all_mbti['posts'].replace(to_replace = pattern_url, value = subs_url, regex = True)"
      ],
      "execution_count": 0,
      "outputs": []
    },
    {
      "cell_type": "markdown",
      "metadata": {
        "id": "PGVsIbXYIDmB",
        "colab_type": "text"
      },
      "source": [
        "_To Lowercase_"
      ]
    },
    {
      "cell_type": "code",
      "metadata": {
        "id": "QokpAcbcIDmD",
        "colab_type": "code",
        "colab": {}
      },
      "source": [
        "all_mbti['posts'] = all_mbti['posts'].str.lower()\n"
      ],
      "execution_count": 0,
      "outputs": []
    },
    {
      "cell_type": "code",
      "metadata": {
        "id": "BdHVVRNqIDmF",
        "colab_type": "code",
        "outputId": "223ebfea-5d6d-447b-c873-db4ca2978559",
        "colab": {}
      },
      "source": [
        "all_mbti.head()"
      ],
      "execution_count": 0,
      "outputs": [
        {
          "output_type": "execute_result",
          "data": {
            "text/html": [
              "<div>\n",
              "<style scoped>\n",
              "    .dataframe tbody tr th:only-of-type {\n",
              "        vertical-align: middle;\n",
              "    }\n",
              "\n",
              "    .dataframe tbody tr th {\n",
              "        vertical-align: top;\n",
              "    }\n",
              "\n",
              "    .dataframe thead th {\n",
              "        text-align: right;\n",
              "    }\n",
              "</style>\n",
              "<table border=\"1\" class=\"dataframe\">\n",
              "  <thead>\n",
              "    <tr style=\"text-align: right;\">\n",
              "      <th></th>\n",
              "      <th>posts</th>\n",
              "    </tr>\n",
              "  </thead>\n",
              "  <tbody>\n",
              "    <tr>\n",
              "      <th>0</th>\n",
              "      <td>'url-web url-web enfp and intj moments  url-we...</td>\n",
              "    </tr>\n",
              "    <tr>\n",
              "      <th>1</th>\n",
              "      <td>'i'm finding the lack of me in these posts ver...</td>\n",
              "    </tr>\n",
              "    <tr>\n",
              "      <th>2</th>\n",
              "      <td>'good one  _____   url-web of course, to which...</td>\n",
              "    </tr>\n",
              "    <tr>\n",
              "      <th>3</th>\n",
              "      <td>'dear intp,   i enjoyed our conversation the o...</td>\n",
              "    </tr>\n",
              "    <tr>\n",
              "      <th>4</th>\n",
              "      <td>'you're fired. that's another silly misconcept...</td>\n",
              "    </tr>\n",
              "  </tbody>\n",
              "</table>\n",
              "</div>"
            ],
            "text/plain": [
              "                                               posts\n",
              "0  'url-web url-web enfp and intj moments  url-we...\n",
              "1  'i'm finding the lack of me in these posts ver...\n",
              "2  'good one  _____   url-web of course, to which...\n",
              "3  'dear intp,   i enjoyed our conversation the o...\n",
              "4  'you're fired. that's another silly misconcept..."
            ]
          },
          "metadata": {
            "tags": []
          },
          "execution_count": 125
        }
      ]
    },
    {
      "cell_type": "markdown",
      "metadata": {
        "id": "_FYSaaQtIDmJ",
        "colab_type": "text"
      },
      "source": [
        "_Remove Punctuation_"
      ]
    },
    {
      "cell_type": "code",
      "metadata": {
        "id": "PbJp_KOXIDmJ",
        "colab_type": "code",
        "colab": {}
      },
      "source": [
        "import string\n",
        "def remove_punctuation_numbers(post):\n",
        "    punc_numbers = string.punctuation + '0123456789'\n",
        "    return ''.join([l for l in post if l not in punc_numbers])\n",
        "all_mbti['posts'] = all_mbti['posts'].apply(remove_punctuation_numbers)"
      ],
      "execution_count": 0,
      "outputs": []
    },
    {
      "cell_type": "markdown",
      "metadata": {
        "id": "tFyquP62IDmM",
        "colab_type": "text"
      },
      "source": [
        "__Tokenising__"
      ]
    },
    {
      "cell_type": "code",
      "metadata": {
        "id": "WtyHBDgFIDmN",
        "colab_type": "code",
        "colab": {}
      },
      "source": [
        "from nltk.tokenize import word_tokenize, TreebankWordTokenizer"
      ],
      "execution_count": 0,
      "outputs": []
    },
    {
      "cell_type": "code",
      "metadata": {
        "id": "QNxNzuRcIDmP",
        "colab_type": "code",
        "colab": {}
      },
      "source": [
        "tokeniser = TreebankWordTokenizer()\n",
        "all_mbti['posts'] = all_mbti['posts'].apply(tokeniser.tokenize)"
      ],
      "execution_count": 0,
      "outputs": []
    },
    {
      "cell_type": "markdown",
      "metadata": {
        "id": "c8JGiWkqIDmR",
        "colab_type": "text"
      },
      "source": [
        "__Stemming__"
      ]
    },
    {
      "cell_type": "code",
      "metadata": {
        "id": "78a5HZlbIDmS",
        "colab_type": "code",
        "colab": {}
      },
      "source": [
        "from nltk import SnowballStemmer, PorterStemmer, LancasterStemmer"
      ],
      "execution_count": 0,
      "outputs": []
    },
    {
      "cell_type": "code",
      "metadata": {
        "id": "9lniA_hDIDmV",
        "colab_type": "code",
        "colab": {}
      },
      "source": [
        "stemmer = SnowballStemmer('english')\n",
        "def mbti_stemmer(words, stemmer):\n",
        "    return [stemmer.stem(word) for word in words]"
      ],
      "execution_count": 0,
      "outputs": []
    },
    {
      "cell_type": "code",
      "metadata": {
        "id": "xcrRuQfBIDmX",
        "colab_type": "code",
        "colab": {}
      },
      "source": [
        "#stem all words in the mbti dataframe\n",
        "all_mbti['posts'] = all_mbti['posts'].apply(mbti_stemmer, args=(stemmer, ))"
      ],
      "execution_count": 0,
      "outputs": []
    },
    {
      "cell_type": "markdown",
      "metadata": {
        "id": "du3BYxMcIDmb",
        "colab_type": "text"
      },
      "source": [
        "__Lemmatization__"
      ]
    },
    {
      "cell_type": "code",
      "metadata": {
        "id": "u-CYs0wuIDmc",
        "colab_type": "code",
        "outputId": "245934c9-6e4d-42c7-a9da-4c0df7dc2309",
        "colab": {}
      },
      "source": [
        "from nltk.stem import WordNetLemmatizer\n",
        "nltk.download('wordnet')\n",
        "\n",
        "lemmatizer = WordNetLemmatizer()"
      ],
      "execution_count": 0,
      "outputs": [
        {
          "output_type": "stream",
          "text": [
            "[nltk_data] Downloading package wordnet to\n",
            "[nltk_data]     C:\\Users\\Mzwandile.m\\AppData\\Roaming\\nltk_data...\n",
            "[nltk_data]   Package wordnet is already up-to-date!\n"
          ],
          "name": "stdout"
        }
      ]
    },
    {
      "cell_type": "code",
      "metadata": {
        "id": "hWDFxy0hIDmh",
        "colab_type": "code",
        "colab": {}
      },
      "source": [
        "def mbti_lemma(words, lemmatizer):\n",
        "    return [lemmatizer.lemmatize(word) for word in words]"
      ],
      "execution_count": 0,
      "outputs": []
    },
    {
      "cell_type": "code",
      "metadata": {
        "id": "LeaKxi9dIDmj",
        "colab_type": "code",
        "colab": {}
      },
      "source": [
        "#lemmatize all words in dataframe\n",
        "all_mbti['posts'] = all_mbti['posts'].apply(mbti_lemma, args=(lemmatizer, ))"
      ],
      "execution_count": 0,
      "outputs": []
    },
    {
      "cell_type": "code",
      "metadata": {
        "id": "5-C9wLhDIDml",
        "colab_type": "code",
        "colab": {}
      },
      "source": [
        ""
      ],
      "execution_count": 0,
      "outputs": []
    },
    {
      "cell_type": "markdown",
      "metadata": {
        "id": "UuUYUX1VIDmo",
        "colab_type": "text"
      },
      "source": [
        "__Stopwords__"
      ]
    },
    {
      "cell_type": "code",
      "metadata": {
        "id": "q04DseVXIDmp",
        "colab_type": "code",
        "colab": {}
      },
      "source": [
        "from nltk.corpus import stopwords"
      ],
      "execution_count": 0,
      "outputs": []
    },
    {
      "cell_type": "code",
      "metadata": {
        "id": "rnrZiiu0IDmr",
        "colab_type": "code",
        "colab": {}
      },
      "source": [
        "def remove_stop_words(tokens):\n",
        "     return [t for t in tokens if t not in stopwords.words('english')]"
      ],
      "execution_count": 0,
      "outputs": []
    },
    {
      "cell_type": "code",
      "metadata": {
        "id": "QK60NVnmIDmt",
        "colab_type": "code",
        "colab": {}
      },
      "source": [
        "# def remove_stop_words(tokens):\n",
        "#     mystopwrords = set(stopwords.words('english'))\n",
        "#     New_stopwords = []\n",
        "#     set_of_stopwords=['i','you','we','ours','yourself','her','he','she','herself','my','yours','him','his','them','their']\n",
        "#     for i in mystopwrords:\n",
        "#         if i not in set_of_stopwords:\n",
        "#             New_stopwords.append(i)\n",
        "            \n",
        "#     return New_stopwords"
      ],
      "execution_count": 0,
      "outputs": []
    },
    {
      "cell_type": "code",
      "metadata": {
        "id": "ouRezjZZIDmv",
        "colab_type": "code",
        "colab": {}
      },
      "source": [
        "# all_mbti['posts'] = all_mbti['posts'].apply(remove_stop_words)"
      ],
      "execution_count": 0,
      "outputs": []
    },
    {
      "cell_type": "code",
      "metadata": {
        "id": "quloasAZIDm5",
        "colab_type": "code",
        "colab": {}
      },
      "source": [
        "all_mbti['posts'] = [' '.join(line) for line in all_mbti['posts']]"
      ],
      "execution_count": 0,
      "outputs": []
    },
    {
      "cell_type": "code",
      "metadata": {
        "id": "cEA3NMs3IDm7",
        "colab_type": "code",
        "outputId": "076ee2d4-81fb-4a9a-b4a1-fbc4ed8bc3d3",
        "colab": {}
      },
      "source": [
        "all_mbti"
      ],
      "execution_count": 0,
      "outputs": [
        {
          "output_type": "execute_result",
          "data": {
            "text/html": [
              "<div>\n",
              "<style scoped>\n",
              "    .dataframe tbody tr th:only-of-type {\n",
              "        vertical-align: middle;\n",
              "    }\n",
              "\n",
              "    .dataframe tbody tr th {\n",
              "        vertical-align: top;\n",
              "    }\n",
              "\n",
              "    .dataframe thead th {\n",
              "        text-align: right;\n",
              "    }\n",
              "</style>\n",
              "<table border=\"1\" class=\"dataframe\">\n",
              "  <thead>\n",
              "    <tr style=\"text-align: right;\">\n",
              "      <th></th>\n",
              "      <th>posts</th>\n",
              "    </tr>\n",
              "  </thead>\n",
              "  <tbody>\n",
              "    <tr>\n",
              "      <th>0</th>\n",
              "      <td>urlweb urlweb enfp and intj moment urlweb spor...</td>\n",
              "    </tr>\n",
              "    <tr>\n",
              "      <th>1</th>\n",
              "      <td>im find the lack of me in these post veri alar...</td>\n",
              "    </tr>\n",
              "    <tr>\n",
              "      <th>2</th>\n",
              "      <td>good one urlweb of cours to which i say i know...</td>\n",
              "    </tr>\n",
              "    <tr>\n",
              "      <th>3</th>\n",
              "      <td>dear intp i enjoy our convers the other day es...</td>\n",
              "    </tr>\n",
              "    <tr>\n",
              "      <th>4</th>\n",
              "      <td>your fire that anoth silli misconcept that app...</td>\n",
              "    </tr>\n",
              "    <tr>\n",
              "      <th>5</th>\n",
              "      <td>scienc is not perfect no scientist claim that ...</td>\n",
              "    </tr>\n",
              "    <tr>\n",
              "      <th>6</th>\n",
              "      <td>no i cant draw on my own nail haha those were ...</td>\n",
              "    </tr>\n",
              "    <tr>\n",
              "      <th>7</th>\n",
              "      <td>i tend to build up a collect of thing on my de...</td>\n",
              "    </tr>\n",
              "    <tr>\n",
              "      <th>8</th>\n",
              "      <td>im not sure that a good question the distinct ...</td>\n",
              "    </tr>\n",
              "    <tr>\n",
              "      <th>9</th>\n",
              "      <td>urlweb im in this posit where i have to actual...</td>\n",
              "    </tr>\n",
              "    <tr>\n",
              "      <th>10</th>\n",
              "      <td>one time my parent were fight over my dad affa...</td>\n",
              "    </tr>\n",
              "    <tr>\n",
              "      <th>11</th>\n",
              "      <td>urlweb o i went through a break up some month ...</td>\n",
              "    </tr>\n",
              "    <tr>\n",
              "      <th>12</th>\n",
              "      <td>joe santagato entp enfj or entp im not too sur...</td>\n",
              "    </tr>\n",
              "    <tr>\n",
              "      <th>13</th>\n",
              "      <td>fair enough if that how you want to look at it...</td>\n",
              "    </tr>\n",
              "    <tr>\n",
              "      <th>14</th>\n",
              "      <td>basic this urlweb can i ha cheezburgr i am ver...</td>\n",
              "    </tr>\n",
              "    <tr>\n",
              "      <th>15</th>\n",
              "      <td>your comment scream intj bro especi the useles...</td>\n",
              "    </tr>\n",
              "    <tr>\n",
              "      <th>16</th>\n",
              "      <td>some of these both excit and calm me butt bodi...</td>\n",
              "    </tr>\n",
              "    <tr>\n",
              "      <th>17</th>\n",
              "      <td>i think we do agre i person dont consid myself...</td>\n",
              "    </tr>\n",
              "    <tr>\n",
              "      <th>18</th>\n",
              "      <td>i fulli believ in the power of be a protector ...</td>\n",
              "    </tr>\n",
              "    <tr>\n",
              "      <th>19</th>\n",
              "      <td>that normal it happen also to me if i am in hi...</td>\n",
              "    </tr>\n",
              "    <tr>\n",
              "      <th>20</th>\n",
              "      <td>steve job wa recogn for his strive for effici ...</td>\n",
              "    </tr>\n",
              "    <tr>\n",
              "      <th>21</th>\n",
              "      <td>it is veri annoy to be misinterpret especi wit...</td>\n",
              "    </tr>\n",
              "    <tr>\n",
              "      <th>22</th>\n",
              "      <td>now im interest but too lazi to go research it...</td>\n",
              "    </tr>\n",
              "    <tr>\n",
              "      <th>23</th>\n",
              "      <td>urh sorri uh couldnt resist all of you enfj pl...</td>\n",
              "    </tr>\n",
              "    <tr>\n",
              "      <th>24</th>\n",
              "      <td>still go strong at just over the two year mark...</td>\n",
              "    </tr>\n",
              "    <tr>\n",
              "      <th>25</th>\n",
              "      <td>person i wa think this would be more of an sj ...</td>\n",
              "    </tr>\n",
              "    <tr>\n",
              "      <th>26</th>\n",
              "      <td>he doesnt want to go on the trip without me so...</td>\n",
              "    </tr>\n",
              "    <tr>\n",
              "      <th>27</th>\n",
              "      <td>they paint without number id guess at istp too...</td>\n",
              "    </tr>\n",
              "    <tr>\n",
              "      <th>28</th>\n",
              "      <td>basic my main question are what do you believ ...</td>\n",
              "    </tr>\n",
              "    <tr>\n",
              "      <th>29</th>\n",
              "      <td>i think that that can absolut be true of infj ...</td>\n",
              "    </tr>\n",
              "    <tr>\n",
              "      <th>...</th>\n",
              "      <td>...</td>\n",
              "    </tr>\n",
              "    <tr>\n",
              "      <th>2139</th>\n",
              "      <td>i play cello and im also a classic train sopra...</td>\n",
              "    </tr>\n",
              "    <tr>\n",
              "      <th>2140</th>\n",
              "      <td>it more or le base on how you experienc thing ...</td>\n",
              "    </tr>\n",
              "    <tr>\n",
              "      <th>2141</th>\n",
              "      <td>socion pick up on this they call it visual ide...</td>\n",
              "    </tr>\n",
              "    <tr>\n",
              "      <th>2142</th>\n",
              "      <td>good advic thank you i am in a tough situat ri...</td>\n",
              "    </tr>\n",
              "    <tr>\n",
              "      <th>2143</th>\n",
              "      <td>urlweb enjoy infp okok let stop at kick walk s...</td>\n",
              "    </tr>\n",
              "    <tr>\n",
              "      <th>2144</th>\n",
              "      <td>i think the real question is whether infj can ...</td>\n",
              "    </tr>\n",
              "    <tr>\n",
              "      <th>2145</th>\n",
              "      <td>be alon be insensit over think out loud social...</td>\n",
              "    </tr>\n",
              "    <tr>\n",
              "      <th>2146</th>\n",
              "      <td>be assert and stand up for myself is someth i ...</td>\n",
              "    </tr>\n",
              "    <tr>\n",
              "      <th>2147</th>\n",
              "      <td>you should do whatev it is you want if you are...</td>\n",
              "    </tr>\n",
              "    <tr>\n",
              "      <th>2148</th>\n",
              "      <td>assum i had a hand in it i alway at least cons...</td>\n",
              "    </tr>\n",
              "    <tr>\n",
              "      <th>2149</th>\n",
              "      <td>i find that poster and your facial express alo...</td>\n",
              "    </tr>\n",
              "    <tr>\n",
              "      <th>2150</th>\n",
              "      <td>rim in some approxim order it seem like you ma...</td>\n",
              "    </tr>\n",
              "    <tr>\n",
              "      <th>2151</th>\n",
              "      <td>social general i posit associ with the idea of...</td>\n",
              "    </tr>\n",
              "    <tr>\n",
              "      <th>2152</th>\n",
              "      <td>dont worri i do that too when a car come close...</td>\n",
              "    </tr>\n",
              "    <tr>\n",
              "      <th>2153</th>\n",
              "      <td>leoni i had realli bad social anxieti until i ...</td>\n",
              "    </tr>\n",
              "    <tr>\n",
              "      <th>2154</th>\n",
              "      <td>i love the vast of the sky becaus my problem a...</td>\n",
              "    </tr>\n",
              "    <tr>\n",
              "      <th>2155</th>\n",
              "      <td>havent log in and read post for over month so ...</td>\n",
              "    </tr>\n",
              "    <tr>\n",
              "      <th>2156</th>\n",
              "      <td>i cant say i have ani one specif belief i mean...</td>\n",
              "    </tr>\n",
              "    <tr>\n",
              "      <th>2157</th>\n",
              "      <td>doesnt matter you dont have a choic elect are ...</td>\n",
              "    </tr>\n",
              "    <tr>\n",
              "      <th>2158</th>\n",
              "      <td>urlweb so mani but id say there a tie between ...</td>\n",
              "    </tr>\n",
              "    <tr>\n",
              "      <th>2159</th>\n",
              "      <td>this test wasnt even close on my gender age or...</td>\n",
              "    </tr>\n",
              "    <tr>\n",
              "      <th>2160</th>\n",
              "      <td>high recommend this to those who want to tri l...</td>\n",
              "    </tr>\n",
              "    <tr>\n",
              "      <th>2161</th>\n",
              "      <td>i think general peopl experi post trauma in a ...</td>\n",
              "    </tr>\n",
              "    <tr>\n",
              "      <th>2162</th>\n",
              "      <td>here a plan stress reliev activ that will onli...</td>\n",
              "    </tr>\n",
              "    <tr>\n",
              "      <th>2163</th>\n",
              "      <td>im not sure about a method for pick out infj m...</td>\n",
              "    </tr>\n",
              "    <tr>\n",
              "      <th>2164</th>\n",
              "      <td>urlweb ixfp just becaus i alway think of cat a...</td>\n",
              "    </tr>\n",
              "    <tr>\n",
              "      <th>2165</th>\n",
              "      <td>soif this thread alreadi exist someplac el whi...</td>\n",
              "    </tr>\n",
              "    <tr>\n",
              "      <th>2166</th>\n",
              "      <td>so mani question when i do these thing i would...</td>\n",
              "    </tr>\n",
              "    <tr>\n",
              "      <th>2167</th>\n",
              "      <td>i am veri conflict right now when it come to w...</td>\n",
              "    </tr>\n",
              "    <tr>\n",
              "      <th>2168</th>\n",
              "      <td>it ha been too long sinc i have been on person...</td>\n",
              "    </tr>\n",
              "  </tbody>\n",
              "</table>\n",
              "<p>8675 rows × 1 columns</p>\n",
              "</div>"
            ],
            "text/plain": [
              "                                                  posts\n",
              "0     urlweb urlweb enfp and intj moment urlweb spor...\n",
              "1     im find the lack of me in these post veri alar...\n",
              "2     good one urlweb of cours to which i say i know...\n",
              "3     dear intp i enjoy our convers the other day es...\n",
              "4     your fire that anoth silli misconcept that app...\n",
              "5     scienc is not perfect no scientist claim that ...\n",
              "6     no i cant draw on my own nail haha those were ...\n",
              "7     i tend to build up a collect of thing on my de...\n",
              "8     im not sure that a good question the distinct ...\n",
              "9     urlweb im in this posit where i have to actual...\n",
              "10    one time my parent were fight over my dad affa...\n",
              "11    urlweb o i went through a break up some month ...\n",
              "12    joe santagato entp enfj or entp im not too sur...\n",
              "13    fair enough if that how you want to look at it...\n",
              "14    basic this urlweb can i ha cheezburgr i am ver...\n",
              "15    your comment scream intj bro especi the useles...\n",
              "16    some of these both excit and calm me butt bodi...\n",
              "17    i think we do agre i person dont consid myself...\n",
              "18    i fulli believ in the power of be a protector ...\n",
              "19    that normal it happen also to me if i am in hi...\n",
              "20    steve job wa recogn for his strive for effici ...\n",
              "21    it is veri annoy to be misinterpret especi wit...\n",
              "22    now im interest but too lazi to go research it...\n",
              "23    urh sorri uh couldnt resist all of you enfj pl...\n",
              "24    still go strong at just over the two year mark...\n",
              "25    person i wa think this would be more of an sj ...\n",
              "26    he doesnt want to go on the trip without me so...\n",
              "27    they paint without number id guess at istp too...\n",
              "28    basic my main question are what do you believ ...\n",
              "29    i think that that can absolut be true of infj ...\n",
              "...                                                 ...\n",
              "2139  i play cello and im also a classic train sopra...\n",
              "2140  it more or le base on how you experienc thing ...\n",
              "2141  socion pick up on this they call it visual ide...\n",
              "2142  good advic thank you i am in a tough situat ri...\n",
              "2143  urlweb enjoy infp okok let stop at kick walk s...\n",
              "2144  i think the real question is whether infj can ...\n",
              "2145  be alon be insensit over think out loud social...\n",
              "2146  be assert and stand up for myself is someth i ...\n",
              "2147  you should do whatev it is you want if you are...\n",
              "2148  assum i had a hand in it i alway at least cons...\n",
              "2149  i find that poster and your facial express alo...\n",
              "2150  rim in some approxim order it seem like you ma...\n",
              "2151  social general i posit associ with the idea of...\n",
              "2152  dont worri i do that too when a car come close...\n",
              "2153  leoni i had realli bad social anxieti until i ...\n",
              "2154  i love the vast of the sky becaus my problem a...\n",
              "2155  havent log in and read post for over month so ...\n",
              "2156  i cant say i have ani one specif belief i mean...\n",
              "2157  doesnt matter you dont have a choic elect are ...\n",
              "2158  urlweb so mani but id say there a tie between ...\n",
              "2159  this test wasnt even close on my gender age or...\n",
              "2160  high recommend this to those who want to tri l...\n",
              "2161  i think general peopl experi post trauma in a ...\n",
              "2162  here a plan stress reliev activ that will onli...\n",
              "2163  im not sure about a method for pick out infj m...\n",
              "2164  urlweb ixfp just becaus i alway think of cat a...\n",
              "2165  soif this thread alreadi exist someplac el whi...\n",
              "2166  so mani question when i do these thing i would...\n",
              "2167  i am veri conflict right now when it come to w...\n",
              "2168  it ha been too long sinc i have been on person...\n",
              "\n",
              "[8675 rows x 1 columns]"
            ]
          },
          "metadata": {
            "tags": []
          },
          "execution_count": 140
        }
      ]
    },
    {
      "cell_type": "markdown",
      "metadata": {
        "id": "TlmB8Ot6IDnB",
        "colab_type": "text"
      },
      "source": [
        "__Create Predictor Variable__"
      ]
    },
    {
      "cell_type": "code",
      "metadata": {
        "id": "3TiaY-E9IDnB",
        "colab_type": "code",
        "colab": {}
      },
      "source": [
        "mbti['mind'] = mbti['type'].str.contains('E') * 1\n",
        "mbti['energy'] = mbti['type'].str.contains('N') * 1\n",
        "mbti['nature'] = mbti['type'].str.contains('T') * 1\n",
        "mbti['tactics'] = mbti['type'].str.contains('J')*1"
      ],
      "execution_count": 0,
      "outputs": []
    },
    {
      "cell_type": "code",
      "metadata": {
        "id": "5tDmHni7IDnE",
        "colab_type": "code",
        "colab": {}
      },
      "source": [
        "my_train = all_mbti[:len(mbti)]\n",
        "my_test = all_mbti[len(mbti):]"
      ],
      "execution_count": 0,
      "outputs": []
    },
    {
      "cell_type": "code",
      "metadata": {
        "id": "Jpx1RYNgIDnG",
        "colab_type": "code",
        "outputId": "3e94c144-3516-4edd-eb5d-720c5bcbd0c5",
        "colab": {}
      },
      "source": [
        "my_test"
      ],
      "execution_count": 0,
      "outputs": [
        {
          "output_type": "execute_result",
          "data": {
            "text/html": [
              "<div>\n",
              "<style scoped>\n",
              "    .dataframe tbody tr th:only-of-type {\n",
              "        vertical-align: middle;\n",
              "    }\n",
              "\n",
              "    .dataframe tbody tr th {\n",
              "        vertical-align: top;\n",
              "    }\n",
              "\n",
              "    .dataframe thead th {\n",
              "        text-align: right;\n",
              "    }\n",
              "</style>\n",
              "<table border=\"1\" class=\"dataframe\">\n",
              "  <thead>\n",
              "    <tr style=\"text-align: right;\">\n",
              "      <th></th>\n",
              "      <th>posts</th>\n",
              "    </tr>\n",
              "  </thead>\n",
              "  <tbody>\n",
              "    <tr>\n",
              "      <th>0</th>\n",
              "      <td>music linguist logic naturalist tie genuin que...</td>\n",
              "    </tr>\n",
              "    <tr>\n",
              "      <th>1</th>\n",
              "      <td>you hello stranger hii you how are you today s...</td>\n",
              "    </tr>\n",
              "    <tr>\n",
              "      <th>2</th>\n",
              "      <td>what work for me wa know that limer in itself ...</td>\n",
              "    </tr>\n",
              "    <tr>\n",
              "      <th>3</th>\n",
              "      <td>plea forget about him you should definit save ...</td>\n",
              "    </tr>\n",
              "    <tr>\n",
              "      <th>4</th>\n",
              "      <td>ooh entj celestia is actual an interest though...</td>\n",
              "    </tr>\n",
              "    <tr>\n",
              "      <th>5</th>\n",
              "      <td>hi dupin im and from new hampshir thank you so...</td>\n",
              "    </tr>\n",
              "    <tr>\n",
              "      <th>6</th>\n",
              "      <td>if we are asshol it becaus we suck at fe most ...</td>\n",
              "    </tr>\n",
              "    <tr>\n",
              "      <th>7</th>\n",
              "      <td>favorit indiefolk peac side of me rock live si...</td>\n",
              "    </tr>\n",
              "    <tr>\n",
              "      <th>8</th>\n",
              "      <td>hello welcom to person cafe they tast differ i...</td>\n",
              "    </tr>\n",
              "    <tr>\n",
              "      <th>9</th>\n",
              "      <td>here a short documentari about life a a canadi...</td>\n",
              "    </tr>\n",
              "    <tr>\n",
              "      <th>10</th>\n",
              "      <td>i respect everi mind i just ask a question for...</td>\n",
              "    </tr>\n",
              "    <tr>\n",
              "      <th>11</th>\n",
              "      <td>perhap it should be but it definit isnt well g...</td>\n",
              "    </tr>\n",
              "    <tr>\n",
              "      <th>12</th>\n",
              "      <td>im jump into the middl of this and am too lazi...</td>\n",
              "    </tr>\n",
              "    <tr>\n",
              "      <th>13</th>\n",
              "      <td>i love this show yet cant find anyth el on it ...</td>\n",
              "    </tr>\n",
              "    <tr>\n",
              "      <th>14</th>\n",
              "      <td>you notic that a good number of respons here a...</td>\n",
              "    </tr>\n",
              "    <tr>\n",
              "      <th>15</th>\n",
              "      <td>he definit like your presenceyou id say go for...</td>\n",
              "    </tr>\n",
              "    <tr>\n",
              "      <th>16</th>\n",
              "      <td>confus someon just show me his inner feel and ...</td>\n",
              "    </tr>\n",
              "    <tr>\n",
              "      <th>17</th>\n",
              "      <td>tragicallyhip i got over it by reli on the met...</td>\n",
              "    </tr>\n",
              "    <tr>\n",
              "      <th>18</th>\n",
              "      <td>haha wow that interest for sure yeah i guess i...</td>\n",
              "    </tr>\n",
              "    <tr>\n",
              "      <th>19</th>\n",
              "      <td>happi belat birthday spacecadett you are one i...</td>\n",
              "    </tr>\n",
              "    <tr>\n",
              "      <th>20</th>\n",
              "      <td>hey everyon just want to give an updat we are ...</td>\n",
              "    </tr>\n",
              "    <tr>\n",
              "      <th>21</th>\n",
              "      <td>yeah my intj friend is in a relationship we we...</td>\n",
              "    </tr>\n",
              "    <tr>\n",
              "      <th>22</th>\n",
              "      <td>it better if you correct me instead of kill th...</td>\n",
              "    </tr>\n",
              "    <tr>\n",
              "      <th>23</th>\n",
              "      <td>for honor nay read a descript of anyth that so...</td>\n",
              "    </tr>\n",
              "    <tr>\n",
              "      <th>24</th>\n",
              "      <td>it becaus the general infp wont fit societi pr...</td>\n",
              "    </tr>\n",
              "    <tr>\n",
              "      <th>25</th>\n",
              "      <td>first extrovert think say you tend to communic...</td>\n",
              "    </tr>\n",
              "    <tr>\n",
              "      <th>26</th>\n",
              "      <td>my babi is a bmw m convert itx awesom to get o...</td>\n",
              "    </tr>\n",
              "    <tr>\n",
              "      <th>27</th>\n",
              "      <td>favorit one flew over the cuckoo nest alright ...</td>\n",
              "    </tr>\n",
              "    <tr>\n",
              "      <th>28</th>\n",
              "      <td>your definit an extravert tiuser so either ent...</td>\n",
              "    </tr>\n",
              "    <tr>\n",
              "      <th>29</th>\n",
              "      <td>mountain lion aka cougar puma catamount panthe...</td>\n",
              "    </tr>\n",
              "    <tr>\n",
              "      <th>...</th>\n",
              "      <td>...</td>\n",
              "    </tr>\n",
              "    <tr>\n",
              "      <th>2139</th>\n",
              "      <td>i play cello and im also a classic train sopra...</td>\n",
              "    </tr>\n",
              "    <tr>\n",
              "      <th>2140</th>\n",
              "      <td>it more or le base on how you experienc thing ...</td>\n",
              "    </tr>\n",
              "    <tr>\n",
              "      <th>2141</th>\n",
              "      <td>socion pick up on this they call it visual ide...</td>\n",
              "    </tr>\n",
              "    <tr>\n",
              "      <th>2142</th>\n",
              "      <td>good advic thank you i am in a tough situat ri...</td>\n",
              "    </tr>\n",
              "    <tr>\n",
              "      <th>2143</th>\n",
              "      <td>urlweb enjoy infp okok let stop at kick walk s...</td>\n",
              "    </tr>\n",
              "    <tr>\n",
              "      <th>2144</th>\n",
              "      <td>i think the real question is whether infj can ...</td>\n",
              "    </tr>\n",
              "    <tr>\n",
              "      <th>2145</th>\n",
              "      <td>be alon be insensit over think out loud social...</td>\n",
              "    </tr>\n",
              "    <tr>\n",
              "      <th>2146</th>\n",
              "      <td>be assert and stand up for myself is someth i ...</td>\n",
              "    </tr>\n",
              "    <tr>\n",
              "      <th>2147</th>\n",
              "      <td>you should do whatev it is you want if you are...</td>\n",
              "    </tr>\n",
              "    <tr>\n",
              "      <th>2148</th>\n",
              "      <td>assum i had a hand in it i alway at least cons...</td>\n",
              "    </tr>\n",
              "    <tr>\n",
              "      <th>2149</th>\n",
              "      <td>i find that poster and your facial express alo...</td>\n",
              "    </tr>\n",
              "    <tr>\n",
              "      <th>2150</th>\n",
              "      <td>rim in some approxim order it seem like you ma...</td>\n",
              "    </tr>\n",
              "    <tr>\n",
              "      <th>2151</th>\n",
              "      <td>social general i posit associ with the idea of...</td>\n",
              "    </tr>\n",
              "    <tr>\n",
              "      <th>2152</th>\n",
              "      <td>dont worri i do that too when a car come close...</td>\n",
              "    </tr>\n",
              "    <tr>\n",
              "      <th>2153</th>\n",
              "      <td>leoni i had realli bad social anxieti until i ...</td>\n",
              "    </tr>\n",
              "    <tr>\n",
              "      <th>2154</th>\n",
              "      <td>i love the vast of the sky becaus my problem a...</td>\n",
              "    </tr>\n",
              "    <tr>\n",
              "      <th>2155</th>\n",
              "      <td>havent log in and read post for over month so ...</td>\n",
              "    </tr>\n",
              "    <tr>\n",
              "      <th>2156</th>\n",
              "      <td>i cant say i have ani one specif belief i mean...</td>\n",
              "    </tr>\n",
              "    <tr>\n",
              "      <th>2157</th>\n",
              "      <td>doesnt matter you dont have a choic elect are ...</td>\n",
              "    </tr>\n",
              "    <tr>\n",
              "      <th>2158</th>\n",
              "      <td>urlweb so mani but id say there a tie between ...</td>\n",
              "    </tr>\n",
              "    <tr>\n",
              "      <th>2159</th>\n",
              "      <td>this test wasnt even close on my gender age or...</td>\n",
              "    </tr>\n",
              "    <tr>\n",
              "      <th>2160</th>\n",
              "      <td>high recommend this to those who want to tri l...</td>\n",
              "    </tr>\n",
              "    <tr>\n",
              "      <th>2161</th>\n",
              "      <td>i think general peopl experi post trauma in a ...</td>\n",
              "    </tr>\n",
              "    <tr>\n",
              "      <th>2162</th>\n",
              "      <td>here a plan stress reliev activ that will onli...</td>\n",
              "    </tr>\n",
              "    <tr>\n",
              "      <th>2163</th>\n",
              "      <td>im not sure about a method for pick out infj m...</td>\n",
              "    </tr>\n",
              "    <tr>\n",
              "      <th>2164</th>\n",
              "      <td>urlweb ixfp just becaus i alway think of cat a...</td>\n",
              "    </tr>\n",
              "    <tr>\n",
              "      <th>2165</th>\n",
              "      <td>soif this thread alreadi exist someplac el whi...</td>\n",
              "    </tr>\n",
              "    <tr>\n",
              "      <th>2166</th>\n",
              "      <td>so mani question when i do these thing i would...</td>\n",
              "    </tr>\n",
              "    <tr>\n",
              "      <th>2167</th>\n",
              "      <td>i am veri conflict right now when it come to w...</td>\n",
              "    </tr>\n",
              "    <tr>\n",
              "      <th>2168</th>\n",
              "      <td>it ha been too long sinc i have been on person...</td>\n",
              "    </tr>\n",
              "  </tbody>\n",
              "</table>\n",
              "<p>2169 rows × 1 columns</p>\n",
              "</div>"
            ],
            "text/plain": [
              "                                                  posts\n",
              "0     music linguist logic naturalist tie genuin que...\n",
              "1     you hello stranger hii you how are you today s...\n",
              "2     what work for me wa know that limer in itself ...\n",
              "3     plea forget about him you should definit save ...\n",
              "4     ooh entj celestia is actual an interest though...\n",
              "5     hi dupin im and from new hampshir thank you so...\n",
              "6     if we are asshol it becaus we suck at fe most ...\n",
              "7     favorit indiefolk peac side of me rock live si...\n",
              "8     hello welcom to person cafe they tast differ i...\n",
              "9     here a short documentari about life a a canadi...\n",
              "10    i respect everi mind i just ask a question for...\n",
              "11    perhap it should be but it definit isnt well g...\n",
              "12    im jump into the middl of this and am too lazi...\n",
              "13    i love this show yet cant find anyth el on it ...\n",
              "14    you notic that a good number of respons here a...\n",
              "15    he definit like your presenceyou id say go for...\n",
              "16    confus someon just show me his inner feel and ...\n",
              "17    tragicallyhip i got over it by reli on the met...\n",
              "18    haha wow that interest for sure yeah i guess i...\n",
              "19    happi belat birthday spacecadett you are one i...\n",
              "20    hey everyon just want to give an updat we are ...\n",
              "21    yeah my intj friend is in a relationship we we...\n",
              "22    it better if you correct me instead of kill th...\n",
              "23    for honor nay read a descript of anyth that so...\n",
              "24    it becaus the general infp wont fit societi pr...\n",
              "25    first extrovert think say you tend to communic...\n",
              "26    my babi is a bmw m convert itx awesom to get o...\n",
              "27    favorit one flew over the cuckoo nest alright ...\n",
              "28    your definit an extravert tiuser so either ent...\n",
              "29    mountain lion aka cougar puma catamount panthe...\n",
              "...                                                 ...\n",
              "2139  i play cello and im also a classic train sopra...\n",
              "2140  it more or le base on how you experienc thing ...\n",
              "2141  socion pick up on this they call it visual ide...\n",
              "2142  good advic thank you i am in a tough situat ri...\n",
              "2143  urlweb enjoy infp okok let stop at kick walk s...\n",
              "2144  i think the real question is whether infj can ...\n",
              "2145  be alon be insensit over think out loud social...\n",
              "2146  be assert and stand up for myself is someth i ...\n",
              "2147  you should do whatev it is you want if you are...\n",
              "2148  assum i had a hand in it i alway at least cons...\n",
              "2149  i find that poster and your facial express alo...\n",
              "2150  rim in some approxim order it seem like you ma...\n",
              "2151  social general i posit associ with the idea of...\n",
              "2152  dont worri i do that too when a car come close...\n",
              "2153  leoni i had realli bad social anxieti until i ...\n",
              "2154  i love the vast of the sky becaus my problem a...\n",
              "2155  havent log in and read post for over month so ...\n",
              "2156  i cant say i have ani one specif belief i mean...\n",
              "2157  doesnt matter you dont have a choic elect are ...\n",
              "2158  urlweb so mani but id say there a tie between ...\n",
              "2159  this test wasnt even close on my gender age or...\n",
              "2160  high recommend this to those who want to tri l...\n",
              "2161  i think general peopl experi post trauma in a ...\n",
              "2162  here a plan stress reliev activ that will onli...\n",
              "2163  im not sure about a method for pick out infj m...\n",
              "2164  urlweb ixfp just becaus i alway think of cat a...\n",
              "2165  soif this thread alreadi exist someplac el whi...\n",
              "2166  so mani question when i do these thing i would...\n",
              "2167  i am veri conflict right now when it come to w...\n",
              "2168  it ha been too long sinc i have been on person...\n",
              "\n",
              "[2169 rows x 1 columns]"
            ]
          },
          "metadata": {
            "tags": []
          },
          "execution_count": 143
        }
      ]
    },
    {
      "cell_type": "code",
      "metadata": {
        "id": "9mJpe7vuIDnJ",
        "colab_type": "code",
        "colab": {}
      },
      "source": [
        "from sklearn.feature_extraction.text import CountVectorizer"
      ],
      "execution_count": 0,
      "outputs": []
    },
    {
      "cell_type": "code",
      "metadata": {
        "id": "a36hRmF_IDnL",
        "colab_type": "code",
        "colab": {}
      },
      "source": [
        "vect = CountVectorizer()\n",
        "X_vect = vect.fit_transform(my_train['posts'])\n",
        "Test_vect = vect.transform(my_test['posts'])"
      ],
      "execution_count": 0,
      "outputs": []
    },
    {
      "cell_type": "code",
      "metadata": {
        "id": "m31-dRk6IDnO",
        "colab_type": "code",
        "outputId": "a317e757-ee02-48e7-a7ac-1b068209949d",
        "colab": {}
      },
      "source": [
        "X_vect.shape"
      ],
      "execution_count": 0,
      "outputs": [
        {
          "output_type": "execute_result",
          "data": {
            "text/plain": [
              "(6506, 133)"
            ]
          },
          "metadata": {
            "tags": []
          },
          "execution_count": 96
        }
      ]
    },
    {
      "cell_type": "code",
      "metadata": {
        "id": "CslyRIVkIDnQ",
        "colab_type": "code",
        "colab": {}
      },
      "source": [
        "logreg = LogisticRegression(C=3,penalty='l1')"
      ],
      "execution_count": 0,
      "outputs": []
    },
    {
      "cell_type": "code",
      "metadata": {
        "id": "b0lPEmqeIDnS",
        "colab_type": "code",
        "colab": {}
      },
      "source": [
        ""
      ],
      "execution_count": 0,
      "outputs": []
    },
    {
      "cell_type": "code",
      "metadata": {
        "id": "J6ASAuPkIDnU",
        "colab_type": "code",
        "outputId": "c409ee42-ade0-4aa6-c9b7-6bf02a00a186",
        "colab": {}
      },
      "source": [
        "X = X_vect\n",
        "#test_train_split_tactics\n",
        "X_train_e, X_test_e, y_train_e, y_test_e = train_test_split(X,mbti['energy'].values)\n",
        "logreg.fit(X_train_e,y_train_e)\n",
        "\n",
        "y_pred_e = logreg.predict(X_test_e)\n",
        "metrics.accuracy_score(y_test_e, y_pred_e)\n"
      ],
      "execution_count": 0,
      "outputs": [
        {
          "output_type": "execute_result",
          "data": {
            "text/plain": [
              "0.858020897357099"
            ]
          },
          "metadata": {
            "tags": []
          },
          "execution_count": 98
        }
      ]
    },
    {
      "cell_type": "code",
      "metadata": {
        "id": "H54oQcFWIDnX",
        "colab_type": "code",
        "outputId": "63b8fbc5-4f1b-4f36-80eb-f769970a2cfc",
        "colab": {}
      },
      "source": [
        "#test_train_split_tactics\n",
        "X_train_m, X_test_m, y_train_m, y_test_m = train_test_split(X,mbti['mind'].values)\n",
        "logreg.fit(X_train_m,y_train_m)\n",
        "# generate predictions\n",
        "y_pred_m = logreg.predict(X_test_m)\n",
        "metrics.accuracy_score(y_test_m, y_pred_m)"
      ],
      "execution_count": 0,
      "outputs": [
        {
          "output_type": "execute_result",
          "data": {
            "text/plain": [
              "0.7566072526121697"
            ]
          },
          "metadata": {
            "tags": []
          },
          "execution_count": 99
        }
      ]
    },
    {
      "cell_type": "code",
      "metadata": {
        "id": "QP_fyqW4IDnZ",
        "colab_type": "code",
        "outputId": "25f1ee3e-1aa7-476f-dd2c-c9b395535f48",
        "colab": {}
      },
      "source": [
        "#test_train_split_tactics\n",
        "X_train_n, X_test_n, y_train_n, y_test_n = train_test_split(X,mbti['nature'].values)\n",
        "logreg.fit(X_train_n,y_train_n)\n",
        "# generate predictions\n",
        "y_pred_n = logreg.predict(X_test_n)\n",
        "metrics.accuracy_score(y_test_n, y_pred_n)"
      ],
      "execution_count": 0,
      "outputs": [
        {
          "output_type": "execute_result",
          "data": {
            "text/plain": [
              "0.5451751690227412"
            ]
          },
          "metadata": {
            "tags": []
          },
          "execution_count": 100
        }
      ]
    },
    {
      "cell_type": "code",
      "metadata": {
        "id": "MVZtJQPYIDnc",
        "colab_type": "code",
        "outputId": "d4579ead-4af3-4bbc-df55-3329d3cf4015",
        "colab": {}
      },
      "source": [
        "#test_train_split_tactics\n",
        "X_train_t, X_test_t, y_train_t, y_test_t = train_test_split(X,mbti['tactics'].values)\n",
        "logreg.fit(X_train_t,y_train_t)\n",
        "# generate predictions\n",
        "y_pred_t = logreg.predict(X_test_t)\n",
        "metrics.accuracy_score(y_test_t, y_pred_t)"
      ],
      "execution_count": 0,
      "outputs": [
        {
          "output_type": "execute_result",
          "data": {
            "text/plain": [
              "0.6189305470190535"
            ]
          },
          "metadata": {
            "tags": []
          },
          "execution_count": 101
        }
      ]
    },
    {
      "cell_type": "code",
      "metadata": {
        "id": "7rl0UnfJIDnf",
        "colab_type": "code",
        "colab": {}
      },
      "source": [
        "sub = test[['id']]"
      ],
      "execution_count": 0,
      "outputs": []
    },
    {
      "cell_type": "code",
      "metadata": {
        "id": "HoxGL9Q7IDnk",
        "colab_type": "code",
        "colab": {}
      },
      "source": [
        "logreg.fit(X_vect,mbti['mind'].values)\n",
        "y_pred_mind = logreg.predict(Test_vect)\n",
        "sub['mind'] = y_pred_mind"
      ],
      "execution_count": 0,
      "outputs": []
    },
    {
      "cell_type": "code",
      "metadata": {
        "id": "FKIizvrJIDno",
        "colab_type": "code",
        "colab": {}
      },
      "source": [
        "logreg.fit(X_vect,mbti['energy'].values)\n",
        "sub['energy'] = logreg.predict(Test_vect)"
      ],
      "execution_count": 0,
      "outputs": []
    },
    {
      "cell_type": "code",
      "metadata": {
        "id": "vzo371HCIDns",
        "colab_type": "code",
        "colab": {}
      },
      "source": [
        "logreg.fit(X_vect,mbti['nature'].values)\n",
        "sub['nature'] = logreg.predict(Test_vect)"
      ],
      "execution_count": 0,
      "outputs": []
    },
    {
      "cell_type": "code",
      "metadata": {
        "id": "JRV9GHVdIDnv",
        "colab_type": "code",
        "colab": {}
      },
      "source": [
        "logreg.fit(X_vect,mbti['tactics'].values)\n",
        "sub['tactics'] = logreg.predict(Test_vect)"
      ],
      "execution_count": 0,
      "outputs": []
    },
    {
      "cell_type": "code",
      "metadata": {
        "id": "qJsM9T_uIDny",
        "colab_type": "code",
        "colab": {}
      },
      "source": [
        "sub.to_csv('subm.csv',index=False)"
      ],
      "execution_count": 0,
      "outputs": []
    },
    {
      "cell_type": "code",
      "metadata": {
        "id": "1fQUhmuGIDn1",
        "colab_type": "code",
        "colab": {}
      },
      "source": [
        ""
      ],
      "execution_count": 0,
      "outputs": []
    }
  ]
}